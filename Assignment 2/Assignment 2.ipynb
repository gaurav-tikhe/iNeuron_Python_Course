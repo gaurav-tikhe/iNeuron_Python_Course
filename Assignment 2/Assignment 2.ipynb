{
 "cells": [
  {
   "cell_type": "markdown",
   "metadata": {},
   "source": [
    "Task 1: 1.1<br>Write a Python Program to implement your own myreduce() function which works exactly like\n",
    "Python's built-in function reduce() \n"
   ]
  },
  {
   "cell_type": "code",
   "execution_count": 18,
   "metadata": {},
   "outputs": [],
   "source": [
    "def myreduce(anyfunc, sequence):\n",
    " # Get first item in sequence and assign to result\n",
    "  result = sequence[0]\n",
    " # iterate over remaining items in sequence and apply reduction function \n",
    "  for item in sequence[1:]:\n",
    "   result = anyfunc(result, item)\n",
    "\n",
    "  return result"
   ]
  },
  {
   "cell_type": "code",
   "execution_count": 20,
   "metadata": {},
   "outputs": [
    {
     "data": {
      "text/plain": [
       "6"
      ]
     },
     "execution_count": 20,
     "metadata": {},
     "output_type": "execute_result"
    }
   ],
   "source": [
    "myreduce(multiply, (range(1, 4)))"
   ]
  },
  {
   "cell_type": "markdown",
   "metadata": {},
   "source": [
    "Task 1: 1.2<br>\n",
    "Write a Python program to implement your own myfilter() function which works exactly like\n",
    "Python's built-in function filter()"
   ]
  },
  {
   "cell_type": "code",
   "execution_count": 27,
   "metadata": {},
   "outputs": [],
   "source": [
    "# Writing a function to be applied on given sequence\n",
    "def multiple_of_3 (val):\n",
    "    if val %3 == 0:\n",
    "        return val\n",
    "\n",
    "# Custom myfilter function\n",
    "def myfilter(anyfunc, sequence):\n",
    " # Initialize empty list\n",
    " result = []\n",
    " # iterate over sequence of items in sequence and apply filter function\n",
    " for item in sequence:\n",
    "        if anyfunc(item):\n",
    "            result.append(item)\n",
    "\n",
    " # return final output\n",
    " return result\n"
   ]
  },
  {
   "cell_type": "code",
   "execution_count": 28,
   "metadata": {},
   "outputs": [
    {
     "data": {
      "text/plain": [
       "[3, 9, 15]"
      ]
     },
     "execution_count": 28,
     "metadata": {},
     "output_type": "execute_result"
    }
   ],
   "source": [
    "# Applying above written function on given sequence will return multiples of 3 in that given sequence.\n",
    "myfilter(multiple_of_3,[0, 1, 2, 3, 5, 8, 9,15] )"
   ]
  },
  {
   "cell_type": "markdown",
   "metadata": {},
   "source": [
    "Task 1: 2<br>\n",
    "Write List comprehensions to produce the following Lists<br>\n",
    "['A', 'C', 'A', 'D', 'G', 'I', ’L’, ‘ D’]\n",
    "['x', 'xx', 'xxx', 'xxxx', 'y', 'yy', 'yyy', 'yyyy', 'z', 'zz', 'zzz', 'zzzz']<br>\n",
    "['x', 'y', 'z', 'xx', 'yy', 'zz', 'xx', 'yy', 'zz', 'xxxx', 'yyyy', 'zzzz']<br>\n",
    "[[2], [3], [4], [3], [4], [5], [4], [5], [6]]<br>\n",
    "[[2, 3, 4, 5], [3, 4, 5, 6], [4, 5, 6, 7], [5, 6, 7, 8]]<br>\n",
    "[(1, 1), (2, 1), (3, 1), (1, 2), (2, 2), (3, 2), (1, 3), (2, 3), (3, 3)]<br>"
   ]
  },
  {
   "cell_type": "code",
   "execution_count": 82,
   "metadata": {},
   "outputs": [
    {
     "data": {
      "text/plain": [
       "['A', 'C', 'A', 'D', 'G', 'I', 'L', 'D']"
      ]
     },
     "execution_count": 82,
     "metadata": {},
     "output_type": "execute_result"
    }
   ],
   "source": [
    "[letter for letter in \"ACADGILD\"]"
   ]
  },
  {
   "cell_type": "code",
   "execution_count": 83,
   "metadata": {},
   "outputs": [
    {
     "data": {
      "text/plain": [
       "['x', 'xx', 'xxx', 'xxxx', 'y', 'yy', 'yyy', 'yyyy', 'z', 'zz', 'zzz', 'zzzz']"
      ]
     },
     "execution_count": 83,
     "metadata": {},
     "output_type": "execute_result"
    }
   ],
   "source": [
    "[i*j for i in 'xyz' for j in range(1,5)]"
   ]
  },
  {
   "cell_type": "code",
   "execution_count": 84,
   "metadata": {},
   "outputs": [
    {
     "data": {
      "text/plain": [
       "['x', 'y', 'z', 'xx', 'yy', 'zz', 'xxx', 'yyy', 'zzz', 'xxxx', 'yyyy', 'zzzz']"
      ]
     },
     "execution_count": 84,
     "metadata": {},
     "output_type": "execute_result"
    }
   ],
   "source": [
    "[i * j for j in range(1,5) for i in [\"x\",\"y\",\"z\"] ]"
   ]
  },
  {
   "cell_type": "code",
   "execution_count": 85,
   "metadata": {},
   "outputs": [
    {
     "data": {
      "text/plain": [
       "[[2], [3], [4], [3], [4], [5], [4], [5], [6]]"
      ]
     },
     "execution_count": 85,
     "metadata": {},
     "output_type": "execute_result"
    }
   ],
   "source": [
    "[[i + j] for j in range(0,3) for i in [2,3,4]]"
   ]
  },
  {
   "cell_type": "code",
   "execution_count": 86,
   "metadata": {},
   "outputs": [
    {
     "data": {
      "text/plain": [
       "[[2, 3, 4, 5], [3, 4, 5, 6], [4, 5, 6, 7], [5, 6, 7, 8]]"
      ]
     },
     "execution_count": 86,
     "metadata": {},
     "output_type": "execute_result"
    }
   ],
   "source": [
    "[ [i + j for i in [2,3,4,5]] for j in range(0,4) ]"
   ]
  },
  {
   "cell_type": "code",
   "execution_count": 87,
   "metadata": {},
   "outputs": [
    {
     "data": {
      "text/plain": [
       "[(1, 1), (2, 1), (3, 1), (1, 2), (2, 2), (3, 2), (1, 3), (2, 3), (3, 3)]"
      ]
     },
     "execution_count": 87,
     "metadata": {},
     "output_type": "execute_result"
    }
   ],
   "source": [
    "[ (b,a) for a in [1,2,3] for b in [1,2,3]]"
   ]
  },
  {
   "cell_type": "markdown",
   "metadata": {},
   "source": [
    "Task 1: 3<br>\n",
    "Implement a function longestWord() that takes a list of words and returns the longest one."
   ]
  },
  {
   "cell_type": "code",
   "execution_count": 8,
   "metadata": {},
   "outputs": [],
   "source": [
    "def longestword(lis):\n",
    "    '''Returns the longest word in the given list'''\n",
    "    word_len = []\n",
    "    for n in lis:\n",
    "        word_len.append((len(n), n))\n",
    "    word_len.sort()\n",
    "    return word_len[-1][1]"
   ]
  },
  {
   "cell_type": "code",
   "execution_count": 46,
   "metadata": {},
   "outputs": [
    {
     "name": "stdout",
     "output_type": "stream",
     "text": [
      "Longest word of the given list is: Atmosphere\n"
     ]
    }
   ],
   "source": [
    "lis = [\"Gau\",\"Help\",\"Prasannna\",\"Dhananjay\",\"Atmosphere\"]\n",
    "print(\"Longest word of the given list is:\",longestword(lis))"
   ]
  },
  {
   "cell_type": "markdown",
   "metadata": {},
   "source": [
    "Task 2: 1.1 <br>\n",
    "Write a Python Program(with class concepts) to find the area of the triangle using the below\n",
    "formula.<br>\n",
    "area = (s*(s-a)*(s-b)*(s-c)) ** 0.5\n",
    "Function to take the length of the sides of triangle from user should be defined in the parent\n",
    "class and function to calculate the area should be defined in subclass."
   ]
  },
  {
   "cell_type": "code",
   "execution_count": 3,
   "metadata": {},
   "outputs": [],
   "source": [
    "# Creating a class Triangle\n",
    "class Triangle:\n",
    "    def __init__(self,a,b,c):\n",
    "        self.a = float(a)\n",
    "        self.b = float(b)\n",
    "        self.c = float(c)\n",
    "    def area(self):\n",
    "        '''Returns the area of a triangle using Semi-perimeter method'''\n",
    "        s=(self.a + self.b + self.c)/2\n",
    "        return((s*(s-self.a)*(s-self.b)*(s-self.c))**0.5)"
   ]
  },
  {
   "cell_type": "code",
   "execution_count": 7,
   "metadata": {},
   "outputs": [
    {
     "name": "stdout",
     "output_type": "stream",
     "text": [
      "Enter the value of a = 3\n",
      "Enter the value of b = 4\n",
      "Enter the value of c = 5\n",
      "area : 6.0\n"
     ]
    }
   ],
   "source": [
    "# Taking inputs of sides from user and printing its area by \n",
    "a=input(\"Enter the value of a = \")\n",
    "b=input(\"Enter the value of b = \")\n",
    "c=input(\"Enter the value of c = \")\n",
    "t = Triangle(a, b, c)\n",
    "print(\"area : {}\".format(t.area()))"
   ]
  },
  {
   "cell_type": "markdown",
   "metadata": {},
   "source": [
    "Task 2: 1.2<br>\n",
    "Write a function filter_long_words() that takes a list of words and an integer n and returns the list\n",
    "of words that are longer than n."
   ]
  },
  {
   "cell_type": "code",
   "execution_count": 27,
   "metadata": {},
   "outputs": [],
   "source": [
    "def filter_long_words(lis,n):\n",
    "    '''Returns list of all the words greater than length n'''\n",
    "    if type(n) == float:\n",
    "        n = int(n)\n",
    "    else:\n",
    "        list_of_element_len = list(map(len,lis))\n",
    "    return  [lis[i] for i in range(len(list_of_element_len)) if list_of_element_len[i] > n]"
   ]
  },
  {
   "cell_type": "code",
   "execution_count": 33,
   "metadata": {},
   "outputs": [
    {
     "data": {
      "text/plain": [
       "['Gaurav', 'Dhananjay', 'Vishwanath']"
      ]
     },
     "execution_count": 33,
     "metadata": {},
     "output_type": "execute_result"
    }
   ],
   "source": [
    "lis = [\"Gaurav\",\"Dhananjay\",\"Tikhe\",\"Vishwanath\",\"Vijay\"]\n",
    "filter_long_words(lis,5)"
   ]
  },
  {
   "cell_type": "markdown",
   "metadata": {},
   "source": [
    "Task 2.1 <br> Write a Python program using function concept that maps list of words into a list of integers\n",
    "representing the lengths of the corresponding words."
   ]
  },
  {
   "cell_type": "code",
   "execution_count": 41,
   "metadata": {},
   "outputs": [],
   "source": [
    "def lis_of_words_to_length(lis):\n",
    "    '''Maps list of words into list of integers representing lengths of corresponding words using list comprehension method'''\n",
    "    return [len(i) for i in lis]\n",
    "\n",
    "def lis_of_words_to_length_loop(lis):\n",
    "    '''Maps list of words into list of integers representing lengths of corresponding words using for loop'''\n",
    "    len_list = []\n",
    "    for word in lis:\n",
    "        len_list.append(len(word))\n",
    "    return len_list\n",
    "\n",
    "def lis_of_words_to_length_map(lis):\n",
    "    '''Maps list of words into list of integers representing lengths of corresponding words using map function'''\n",
    "    return list(map(len,lis))"
   ]
  },
  {
   "cell_type": "code",
   "execution_count": 42,
   "metadata": {},
   "outputs": [
    {
     "name": "stdout",
     "output_type": "stream",
     "text": [
      "Word to word length list using list comprehension is : [6, 9, 5, 10, 5]\n",
      "Word to word length list using for loop is : [6, 9, 5, 10, 5]\n",
      "Word to word length list using map function is : [6, 9, 5, 10, 5]\n"
     ]
    }
   ],
   "source": [
    "lis = [\"Gaurav\",\"Dhananjay\",\"Tikhe\",\"Vishwanath\",\"Vijay\"]\n",
    "print(\"Word to word length list using list comprehension is :\",lis_of_words_to_length(lis))\n",
    "print(\"Word to word length list using for loop is :\",lis_of_words_to_length_loop(lis))\n",
    "print(\"Word to word length list using map function is :\",lis_of_words_to_length_map(lis))"
   ]
  },
  {
   "cell_type": "markdown",
   "metadata": {},
   "source": [
    "Task 2.2<br> Write a Python function which takes a character (i.e. a string of length 1) and returns True if it is\n",
    "a vowel, False otherwise."
   ]
  },
  {
   "cell_type": "code",
   "execution_count": 80,
   "metadata": {},
   "outputs": [],
   "source": [
    "def is_vowel(a):\n",
    "    '''Takes a character and returns true if it is a vowel.'''\n",
    "    vowels = ['a','e','i','o','u']\n",
    "    if a in vowels:\n",
    "        return True\n",
    "    else:\n",
    "        return False"
   ]
  },
  {
   "cell_type": "code",
   "execution_count": 81,
   "metadata": {},
   "outputs": [
    {
     "data": {
      "text/plain": [
       "False"
      ]
     },
     "execution_count": 81,
     "metadata": {},
     "output_type": "execute_result"
    }
   ],
   "source": [
    "is_vowel('g')"
   ]
  }
 ],
 "metadata": {
  "kernelspec": {
   "display_name": "Python 3",
   "language": "python",
   "name": "python3"
  },
  "language_info": {
   "codemirror_mode": {
    "name": "ipython",
    "version": 3
   },
   "file_extension": ".py",
   "mimetype": "text/x-python",
   "name": "python",
   "nbconvert_exporter": "python",
   "pygments_lexer": "ipython3",
   "version": "3.7.4"
  }
 },
 "nbformat": 4,
 "nbformat_minor": 2
}
